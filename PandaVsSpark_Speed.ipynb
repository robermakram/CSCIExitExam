{
 "cells": [
  {
   "cell_type": "code",
   "execution_count": 43,
   "id": "8e6b358c-4765-4a45-8c06-0a7fdf3e494b",
   "metadata": {},
   "outputs": [],
   "source": [
    "import pandas as pd\n",
    "from pyspark.sql import SparkSession\n",
    "import time\n",
    "import matplotlib.pyplot as plt\n",
    "import os\n",
    "spark = SparkSession.builder.appName('Speed').getOrCreate()\n"
   ]
  },
  {
   "cell_type": "code",
   "execution_count": 44,
   "id": "410ac8b3-a819-4fbf-b9c1-320b15ee704d",
   "metadata": {},
   "outputs": [],
   "source": [
    "Pd_Time = []\n",
    "Spark_Time = []\n",
    "DataSize = [os.path.getsize(\"categories.csv\"),os.path.getsize(\"podcasts.csv\"),os.path.getsize(\"reviews.csv\")]"
   ]
  },
  {
   "cell_type": "code",
   "execution_count": 45,
   "id": "826cfd6a-ef2d-4ae7-b4bc-b1c1fefcf852",
   "metadata": {},
   "outputs": [
    {
     "name": "stdout",
     "output_type": "stream",
     "text": [
      "0.04489874839782715\n"
     ]
    }
   ],
   "source": [
    "start = time.time()\n",
    "categories = pd.read_csv('categories.csv')\n",
    "end = time.time()\n",
    "Pd_Time.append(end - start)\n",
    "print(Pd_Time[-1])"
   ]
  },
  {
   "cell_type": "code",
   "execution_count": 46,
   "id": "9f904d57-29ad-42ea-94e5-e03cfb4a13ad",
   "metadata": {},
   "outputs": [
    {
     "name": "stdout",
     "output_type": "stream",
     "text": [
      "0.15825963020324707\n"
     ]
    }
   ],
   "source": [
    "start = time.time()\n",
    "podcasts = pd.read_csv('podcasts.csv')\n",
    "end = time.time()\n",
    "Pd_Time.append(end - start)\n",
    "print(Pd_Time[-1])"
   ]
  },
  {
   "cell_type": "code",
   "execution_count": 47,
   "id": "41e0b7fa-9e74-4ac7-be4f-35a67707236a",
   "metadata": {},
   "outputs": [
    {
     "name": "stdout",
     "output_type": "stream",
     "text": [
      "4.562387943267822\n"
     ]
    }
   ],
   "source": [
    "start = time.time()\n",
    "reviews = pd.read_csv('reviews.csv')\n",
    "end = time.time()\n",
    "Pd_Time.append(end - start)\n",
    "print(Pd_Time[-1])"
   ]
  },
  {
   "cell_type": "code",
   "execution_count": 48,
   "id": "2a63b7c6-fd1c-4d4a-8c97-8ef56aa585cb",
   "metadata": {},
   "outputs": [
    {
     "name": "stdout",
     "output_type": "stream",
     "text": [
      "0.17835712432861328\n"
     ]
    }
   ],
   "source": [
    "start = time.time()\n",
    "df = spark.read.csv(\"categories.csv\")\n",
    "end = time.time()\n",
    "Spark_Time.append(end - start)\n",
    "print(Spark_Time[-1])\n"
   ]
  },
  {
   "cell_type": "code",
   "execution_count": 49,
   "id": "59d4cc63-84fa-417c-9ab2-f8288e183064",
   "metadata": {},
   "outputs": [
    {
     "name": "stdout",
     "output_type": "stream",
     "text": [
      "0.13274598121643066\n"
     ]
    }
   ],
   "source": [
    "start = time.time()\n",
    "df = spark.read.csv(\"podcasts.csv\")\n",
    "end = time.time()\n",
    "Spark_Time.append(end - start)\n",
    "print(Spark_Time[-1])\n"
   ]
  },
  {
   "cell_type": "code",
   "execution_count": 50,
   "id": "783d550e-1331-48b3-917a-89c34cbd7783",
   "metadata": {},
   "outputs": [
    {
     "name": "stdout",
     "output_type": "stream",
     "text": [
      "0.12707924842834473\n"
     ]
    }
   ],
   "source": [
    "start = time.time()\n",
    "df = spark.read.csv(\"reviews.csv\")\n",
    "end = time.time()\n",
    "Spark_Time.append(end - start)\n",
    "print(Spark_Time[-1])\n"
   ]
  },
  {
   "cell_type": "code",
   "execution_count": 51,
   "id": "59f1a812-6eb2-4150-af82-a977d339fda6",
   "metadata": {},
   "outputs": [
    {
     "data": {
      "image/png": "[encoded data removed]",
      "text/plain": [
       "<Figure size 432x288 with 1 Axes>"
      ]
     },
     "metadata": {
      "needs_background": "light"
     },
     "output_type": "display_data"
    }
   ],
   "source": [
    "plt.plot(Pd_Time,label='Panda Time')\n",
    "plt.plot(Spark_Time,label='PySpark Time')\n",
    "plt.legend()\n",
    "plt.show()"
   ]
  },
  {
   "cell_type": "code",
   "execution_count": 52,
   "id": "123c31c5-cd77-44d4-bd78-e1b66a779071",
   "metadata": {},
   "outputs": [
    {
     "data": {
      "image/png": "[encoded data removed]",
      "text/plain": [
       "<Figure size 432x288 with 1 Axes>"
      ]
     },
     "metadata": {
      "needs_background": "light"
     },
     "output_type": "display_data"
    }
   ],
   "source": [
    "plt.plot(DataSize,label='Data Size')\n",
    "plt.legend()\n",
    "plt.show()\n"
   ]
  },
  {
   "cell_type": "code",
   "execution_count": null,
   "id": "af515767-d44a-462b-8171-c9822a788f94",
   "metadata": {},
   "outputs": [],
   "source": []
  },
  {
   "cell_type": "code",
   "execution_count": null,
   "id": "4f9d1644-af0a-4043-9fa4-5bdb1c8da6e2",
   "metadata": {},
   "outputs": [],
   "source": []
  }
 ],
 "metadata": {
  "kernelspec": {
   "display_name": "Python 3 (ipykernel)",
   "language": "python",
   "name": "python3"
  },
  "language_info": {
   "codemirror_mode": {
    "name": "ipython",
    "version": 3
   },
   "file_extension": ".py",
   "mimetype": "text/x-python",
   "name": "python",
   "nbconvert_exporter": "python",
   "pygments_lexer": "ipython3",
   "version": "3.10.5"
  }
 },
 "nbformat": 4,
 "nbformat_minor": 5
}
